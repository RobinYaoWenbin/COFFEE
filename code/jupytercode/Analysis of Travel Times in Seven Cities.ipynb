{
 "cells": [
  {
   "cell_type": "code",
   "execution_count": 1,
   "id": "d409c231",
   "metadata": {},
   "outputs": [],
   "source": [
    "import pandas as pd\n",
    "import numpy as np\n",
    "import matplotlib.pyplot as plt\n",
    "import os\n",
    "import sys\n",
    "sys.path.append(\"../lib/\")\n",
    "sys.path.append(\"../multi_city_restriction_pol/\")\n",
    "sys.path.append(\"../optimization/\")\n",
    "sys.path.append(\"../optimization_result_ana/\")\n",
    "sys.path.append(\"../pol_est_sim/\")\n",
    "sys.path.append(\"../IBTDM_multi_city/\")\n",
    "sys.path.append(\"../multi_city_arrival_time_ana/\")\n",
    "from datetime import datetime, timezone, timedelta\n",
    "from matplotlib import ticker\n",
    "import copy\n",
    "import time, datetime\n",
    "import get_opt_trips\n",
    "import spilt_trips\n",
    "import subset_merge\n",
    "import netload_ana\n",
    "import get_dis_after_policy\n",
    "import get_trips_distribution\n",
    "import simu_traffic\n",
    "import get_OD_after_pol\n",
    "import get_avg_speed\n",
    "import importlib\n",
    "importlib.reload(spilt_trips)\n",
    "importlib.reload(subset_merge)\n",
    "importlib.reload(netload_ana)\n",
    "importlib.reload(get_dis_after_policy)\n",
    "importlib.reload(get_trips_distribution)\n",
    "importlib.reload(simu_traffic)\n",
    "importlib.reload(get_OD_after_pol)\n",
    "importlib.reload(get_avg_speed)\n",
    "from collections import defaultdict\n",
    "import random"
   ]
  },
  {
   "cell_type": "markdown",
   "id": "01ac3b18",
   "metadata": {},
   "source": [
    "# 1.Obtain COFFEE optimized travel time"
   ]
  },
  {
   "cell_type": "code",
   "execution_count": 2,
   "id": "e750c58a",
   "metadata": {},
   "outputs": [],
   "source": [
    "# Hangzhou\n",
    "get_avg_speed.get_speed.get(trip_file_after_DTAS=\"../../data/survey_data/merge_solution_optim_trips_allday_425.csv\",\n",
    "                  original_speed_file=\"../../data/simu_pol_eva_data/SimulationHangzhouTrafficState.csv\",\n",
    "                  after_speed_file='../../data/survey_data/simulation_data/TrafficstateafterCOFFEE.csv',\n",
    "                  data_save_file=\"../../data/multi_city_arrival_time_data/Hangzhou_new_tratime.csv\")"
   ]
  },
  {
   "cell_type": "markdown",
   "id": "7f5204c7",
   "metadata": {},
   "source": [
    "# 2.Analysis of arrival time after implementation of COFFEE"
   ]
  },
  {
   "cell_type": "code",
   "execution_count": 3,
   "id": "23f9d190",
   "metadata": {},
   "outputs": [],
   "source": [
    "get_avg_speed.get_speed.new_arrival_time(new_tratime_file=\"../../data/multi_city_arrival_time_data/Hangzhou_new_tratime.csv\",\n",
    "                               data_save_file=\"../../data/multi_city_arrival_time_data/Hangzhou_delta_arrival_time.csv\")"
   ]
  },
  {
   "cell_type": "code",
   "execution_count": null,
   "id": "e267f10b",
   "metadata": {},
   "outputs": [],
   "source": []
  }
 ],
 "metadata": {
  "kernelspec": {
   "display_name": "Python (COFFEE)",
   "language": "python",
   "name": "coffee"
  },
  "language_info": {
   "codemirror_mode": {
    "name": "ipython",
    "version": 3
   },
   "file_extension": ".py",
   "mimetype": "text/x-python",
   "name": "python",
   "nbconvert_exporter": "python",
   "pygments_lexer": "ipython3",
   "version": "3.7.12"
  }
 },
 "nbformat": 4,
 "nbformat_minor": 5
}
